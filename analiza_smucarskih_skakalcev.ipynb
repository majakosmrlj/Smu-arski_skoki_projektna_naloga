{
 "cells": [
  {
   "cell_type": "markdown",
   "metadata": {},
   "source": [
    "# Analiza smucarskih skakalcev"
   ]
  },
  {
   "cell_type": "markdown",
   "metadata": {},
   "source": [
    "## Nalaganje vseh podatkov"
   ]
  },
  {
   "cell_type": "code",
   "execution_count": 1,
   "metadata": {},
   "outputs": [],
   "source": [
    "import pandas as pd\n",
    "import matplotlib.pyplot as plt"
   ]
  },
  {
   "cell_type": "code",
   "execution_count": 116,
   "metadata": {},
   "outputs": [],
   "source": [
    "smucarski_skakalci = pd.read_csv('smucarski_skakalci.csv', index_col=\"koda\")\n",
    "world_cup = pd.read_csv('world_cup.csv', index_col=\"koda\")"
   ]
  },
  {
   "cell_type": "code",
   "execution_count": 78,
   "metadata": {},
   "outputs": [
    {
     "name": "stdout",
     "output_type": "stream",
     "text": [
      "                          drzava  st_registriranih\n",
      "63                         Japan               955\n",
      "46                       Germany               916\n",
      "8                        Austria               690\n",
      "91                        Norway               674\n",
      "107                     Slovenia               600\n",
      "..                           ...               ...\n",
      "130                     Zimbabwe                11\n",
      "30                Czechoslovakia                 3\n",
      "40   Federal Republic Of Germany                 2\n",
      "65                    Jugoslavia                 1\n",
      "19         C. Independent States                 1\n",
      "\n",
      "[131 rows x 2 columns]\n",
      "   drzava  st_tekmovalcev\n",
      "0     AUT             129\n",
      "12    NOR             123\n",
      "7     GER             107\n",
      "16    SLO             105\n",
      "13    POL              87\n",
      "..    ...             ...\n",
      "1     BUL              10\n",
      "18    TUR               8\n",
      "14    ROU               3\n",
      "19    UKR               3\n",
      "11    KOR               1\n",
      "\n",
      "[21 rows x 2 columns]\n"
     ]
    }
   ],
   "source": [
    "#s to funkcijo sem pregledala katera država ima največ smucarskih skakalcev\n",
    "\n",
    "#katera ima največ registriranih skakalcev\n",
    "prestej_st_registriranih = smucarski_skakalci.groupby('drzava').size().reset_index(name= 'st_registriranih')\n",
    "uredi_padajoce = prestej_st_registriranih.sort_values(by= 'st_registriranih', ascending = False)\n",
    "print(uredi_padajoce)\n",
    "\n",
    "#katera ima največ skakalcev ki so tekmovali v world cupu v zadnjih 10ih letih\n",
    "prestej_tekmovalce = world_cup.groupby('drzava').size().reset_index(name= 'st_tekmovalcev')\n",
    "uredi = prestej_tekmovalce.sort_values(by= 'st_tekmovalcev', ascending = False)\n",
    "print(uredi)"
   ]
  },
  {
   "cell_type": "code",
   "execution_count": 80,
   "metadata": {},
   "outputs": [
    {
     "name": "stdout",
     "output_type": "stream",
     "text": [
      "leto    2015  2016  2017  2018  2019  2020  2021  2022  2023  2024\n",
      "drzava                                                            \n",
      "NOR       13    10    12    13    14    14     8    14    15    10\n",
      "GER       12    11    10     9    12    11    12    11    11     8\n",
      "AUT       12    12    13    14    12    12    16    15    15     8\n",
      "SLO       11    10    10    13    12    10    11    10    10     8\n",
      "POL        9     8     8     7     8     9    11     9    12     6\n",
      "...      ...   ...   ...   ...   ...   ...   ...   ...   ...   ...\n",
      "EST        0     0     1     1     2     1     1     2     2     1\n",
      "KAZ        0     0     5     4     2     2     0     2     2     0\n",
      "ROU        0     0     0     0     0     0     0     2     1     0\n",
      "TUR        0     0     1     2     0     0     0     2     2     1\n",
      "UKR        0     0     0     0     0     0     0     0     1     2\n",
      "\n",
      "[21 rows x 10 columns]\n"
     ]
    }
   ],
   "source": [
    "#ta funkcija pokaže koliko tekmovalcev je imela vsaka država v zadnjih 10ih letih v world cupu\n",
    "prestej_tekmovalce = world_cup.groupby(['leto', 'drzava']).size().reset_index(name='st_tekmovalcev')\n",
    "pivot_tabela = prestej_tekmovalce.pivot(index='drzava', columns='leto', values='st_tekmovalcev')\n",
    "pivot_tabela_brez_nan = pivot_tabela.fillna(0).astype(int) #da ni v tabeli NaN ampak je 0\n",
    "pivot_tabela_preurejeno = pivot_tabela_brez_nan.sort_values(by=2015, ascending=False) #da imam v padajočem vrstnem letu glede na 2024\n",
    "print(pivot_tabela_preurejeno)"
   ]
  },
  {
   "cell_type": "code",
   "execution_count": 112,
   "metadata": {},
   "outputs": [
    {
     "name": "stdout",
     "output_type": "stream",
     "text": [
      "        skupna_uvrstitev  skupno_st_tock  poleti_uvrstitev  poleti_st_tock\n",
      "drzava                                                                    \n",
      "AUT            15.000000      814.875000         11.166667      162.000000\n",
      "GER            26.500000      490.250000         25.333333       47.375000\n",
      "SLO            28.500000      484.000000         19.000000      136.625000\n",
      "NOR            32.100000      308.000000         22.571429       54.300000\n",
      "CZE            33.000000      163.000000               NaN        0.000000\n",
      "...                  ...             ...               ...             ...\n",
      "FIN            45.000000       77.500000         33.000000       12.500000\n",
      "UKR            45.000000       28.500000         23.000000       25.500000\n",
      "USA            46.666667       70.666667         26.500000       33.666667\n",
      "FRA            61.000000        8.000000               NaN        0.000000\n",
      "TUR            64.000000        3.000000               NaN        0.000000\n",
      "\n",
      "[16 rows x 4 columns]\n",
      "        skupna_uvrstitev  skupno_st_tock  poleti_uvrstitev  poleti_st_tock\n",
      "drzava                                                                    \n",
      "AUT            15.000000      814.875000         11.166667      162.000000\n",
      "SLO            28.500000      484.000000         19.000000      136.625000\n",
      "POL            33.333333      224.666667         21.250000       56.333333\n",
      "NOR            32.100000      308.000000         22.571429       54.300000\n",
      "UKR            45.000000       28.500000         23.000000       25.500000\n",
      "...                  ...             ...               ...             ...\n",
      "EST            43.000000       66.000000         37.000000        9.000000\n",
      "BUL            37.000000       93.000000               NaN        0.000000\n",
      "CZE            33.000000      163.000000               NaN        0.000000\n",
      "FRA            61.000000        8.000000               NaN        0.000000\n",
      "TUR            64.000000        3.000000               NaN        0.000000\n",
      "\n",
      "[16 rows x 4 columns]\n"
     ]
    }
   ],
   "source": [
    "world_cup_2024 = world_cup[world_cup['leto'] == 2024]\n",
    "povprecja_2024 = world_cup_2024.groupby('drzava').mean(numeric_only= True)\n",
    "samo_zeljene_vrednosti = povprecja_2024[['skupna_uvrstitev', 'skupno_st_tock', 'poleti_uvrstitev', 'poleti_st_tock']]\n",
    "urejeno_skupno_2024 = samo_zeljene_vrednosti.sort_values(by='skupna_uvrstitev', ascending=True)\n",
    "print(urejeno_skupno_2024)\n",
    "\n",
    "urejeno_poleti_2024 = samo_zeljene_vrednosti.sort_values(by='poleti_uvrstitev', ascending=True)\n",
    "print(urejeno_poleti_2024)\n"
   ]
  },
  {
   "cell_type": "code",
   "execution_count": 137,
   "metadata": {},
   "outputs": [
    {
     "name": "stdout",
     "output_type": "stream",
     "text": [
      "leto    2015  2016  2017  2018  2019  2020  2021  2022  2023  2024\n",
      "drzava                                                            \n",
      "AUT        3     2     3     1     1     2     0     2     3     3\n",
      "NOR        2     4     1     4     2     2     3     2     1     2\n",
      "CZE        1     0     0     0     0     0     0     0     0     0\n",
      "GER        1     2     2     3     2     2     2     2     1     2\n",
      "JPN        1     1     0     0     1     1     1     1     1     1\n",
      "POL        1     0     2     2     3     2     3     0     2     0\n",
      "SLO        1     1     2     0     1     1     1     3     2     2\n"
     ]
    }
   ],
   "source": [
    "najboljsih_10 = world_cup[world_cup['skupna_uvrstitev'] <= 10]\n",
    "#print(najboljsih_10)\n",
    "\n",
    "prestej_tekmovalce = najboljsih_10.groupby(['leto', 'drzava']).size().reset_index(name='st_tekmovalcev')\n",
    "pivot_tabela = prestej_tekmovalce.pivot(index='drzava', columns='leto', values='st_tekmovalcev')\n",
    "pivot_tabela_brez_nan = pivot_tabela.fillna(0).astype(int) #da ni v tabeli NaN ampak je 0\n",
    "pivot_tabela_preurejeno = pivot_tabela_brez_nan.sort_values(by=2015, ascending=False) #da imam v padajočem vrstnem letu glede na 2024\n",
    "print(pivot_tabela_preurejeno)"
   ]
  },
  {
   "cell_type": "code",
   "execution_count": 129,
   "metadata": {},
   "outputs": [
    {
     "name": "stdout",
     "output_type": "stream",
     "text": [
      "        2015       2016       2017       2018       2019       2020  \\\n",
      "0     Freund     Freund     Freund     Freund     Freund     Freund   \n",
      "1      Prevc      Prevc      Prevc      Prevc      Prevc      Prevc   \n",
      "2   Granerud   Granerud   Granerud   Granerud   Granerud   Granerud   \n",
      "3      Prevc      Prevc      Prevc      Prevc      Prevc      Prevc   \n",
      "4  Kobayashi  Kobayashi  Kobayashi  Kobayashi  Kobayashi  Kobayashi   \n",
      "5   Granerud   Granerud   Granerud   Granerud   Granerud   Granerud   \n",
      "6      Kraft      Kraft      Kraft      Kraft      Kraft      Kraft   \n",
      "7      Kraft      Kraft      Kraft      Kraft      Kraft      Kraft   \n",
      "8      Stoch      Stoch      Stoch      Stoch      Stoch      Stoch   \n",
      "9      Kraft      Kraft      Kraft      Kraft      Kraft      Kraft   \n",
      "\n",
      "        2021       2022       2023       2024  \n",
      "0     Freund     Freund     Freund     Freund  \n",
      "1      Prevc      Prevc      Prevc      Prevc  \n",
      "2   Granerud   Granerud   Granerud   Granerud  \n",
      "3      Prevc      Prevc      Prevc      Prevc  \n",
      "4  Kobayashi  Kobayashi  Kobayashi  Kobayashi  \n",
      "5   Granerud   Granerud   Granerud   Granerud  \n",
      "6      Kraft      Kraft      Kraft      Kraft  \n",
      "7      Kraft      Kraft      Kraft      Kraft  \n",
      "8      Stoch      Stoch      Stoch      Stoch  \n",
      "9      Kraft      Kraft      Kraft      Kraft  \n"
     ]
    }
   ],
   "source": [
    "#po vsej verjetnosti nebom uporabila\n",
    "najboljsi_skakalci = pd.DataFrame()\n",
    "\n",
    "\n",
    "# 3. Loop skozi vsako leto, pridobi top 10 skakalcev in dodaj v DataFrame\n",
    "for leto in [2015, 2016, 2017, 2018, 2019, 2020, 2021, 2022, 2023, 2024]:\n",
    "    # Filtriraj podatke za določeno leto in jih uredi po uvrstitvi\n",
    "    top_10 = world_cup[world_cup['leto'] == leto].sort_values(by='skupna_uvrstitev').head(10)\n",
    "    \n",
    "    # Dodaj stolpec v DataFrame z imenom leta in priimki top 10 skakalcev\n",
    "    najboljsi_skakalci[leto] = top_10['priimek'].values\n",
    "\n",
    "# 4. Prikaz rezultata\n",
    "print(najboljsi_skakalci)"
   ]
  },
  {
   "cell_type": "code",
   "execution_count": 134,
   "metadata": {},
   "outputs": [
    {
     "name": "stdout",
     "output_type": "stream",
     "text": [
      "           2015  2016  2017  2018  2019  2020  2021  2022  2023  2024\n",
      "Kraft       3.0   6.0   1.0   4.0   2.0   1.0  17.0   5.0   2.0   1.0\n",
      "Kobayashi  44.0  42.0  54.0  11.0   1.0   3.0   4.0   1.0   5.0   2.0\n",
      "Wellinger  35.0  17.0   4.0   6.0  18.0  None   NaN  29.0   7.0   3.0\n",
      "Hoerl      None  None  None  None  43.0  27.0  39.0   9.0  13.0   4.0\n",
      "Prevc       1.0   1.0   6.0  15.0  13.0   8.0  22.0  10.0  18.0   5.0\n",
      "Hayboeck    5.0   4.0   7.0  23.0  27.0  22.0  18.0  37.0  12.0   6.0\n",
      "Forfang    23.0   5.0  27.0   7.0   8.0  12.0  19.0  24.0  16.0   7.0\n",
      "Lindvik    None  None  None  41.0  44.0   7.0  10.0   3.0  20.0   8.0\n",
      "Kos        None  None  None  None  None  None  62.0  18.0  22.0   9.0\n",
      "Paschke    82.0  74.0   NaN  30.0  59.0  21.0  15.0  33.0  34.0  10.0\n"
     ]
    }
   ],
   "source": [
    "top_10_2024 = world_cup[world_cup['leto'] == 2024].sort_values(by='skupna_uvrstitev').head(10)\n",
    "top_10_priimkov = top_10_2024['priimek'].values\n",
    "\n",
    "# 3. Ustvari prazen DataFrame za shranjevanje uvrstitev\n",
    "uvrstitve_po_letih = pd.DataFrame(index=top_10_priimkov, columns=world_cup['leto'].unique())\n",
    "\n",
    "# 4. Loop skozi vsakega skakalca in za vsako leto zabeleži uvrstitev\n",
    "for skakalec in top_10_priimkov:\n",
    "    for leto in uvrstitve_po_letih.columns:\n",
    "        # Filtriraj podatke za določenega skakalca in leto\n",
    "        uvrstitev = world_cup[(world_cup['priimek'] == skakalec) & (world_cup['leto'] == leto)]['skupna_uvrstitev']\n",
    "        \n",
    "        # Če je skakalec bil uvrščen v tistem letu, zabeleži uvrstitev\n",
    "        if not uvrstitev.empty:\n",
    "            uvrstitve_po_letih.at[skakalec, leto] = uvrstitev.values[0]\n",
    "        else:\n",
    "            # Če ni bil uvrščen, zabeleži NaN\n",
    "            uvrstitve_po_letih.at[skakalec, leto] = None\n",
    "\n",
    "# 5. Prikaz rezultata\n",
    "print(uvrstitve_po_letih)"
   ]
  },
  {
   "cell_type": "code",
   "execution_count": 190,
   "metadata": {},
   "outputs": [
    {
     "name": "stdout",
     "output_type": "stream",
     "text": [
      "klub\n",
      "SK Triglav Kranj          47\n",
      "Altius Nordic Ski Club    38\n",
      "Einsiedeln                38\n",
      "SSK Ilirija               36\n",
      "Lahden Hiihtoseura        34\n",
      "Puijon Hiihtoseura        33\n",
      "SC Oberstdorf             27\n",
      "Sk Triglav kranj          25\n",
      "Courchevel                25\n",
      "Sc Partenkirchen          25\n",
      "SG Nickelhuette Aue       23\n",
      "WSS Wisla                 23\n",
      "Name: id, dtype: int64\n",
      "klub\n",
      "Bakuriani                         19\n",
      "CLUB DES SPORTS COURCHEVEL        18\n",
      "SSK ILIRIJA                       16\n",
      "Chinese Ski Association           15\n",
      "SSK NORICA ZIRI                   15\n",
      "Belarus Ski Jumping Federation    11\n",
      "Am Bachtel                        10\n",
      "Sk Triglav kranj                  10\n",
      "TJ Dukla Liberec                   9\n",
      "SK TRIGLAV KRANJ                   9\n",
      "SK ZAGORJE                         8\n",
      "CSS BRASOVIA                       8\n",
      "Name: id, dtype: int64\n"
     ]
    }
   ],
   "source": [
    "prestej_klube = smucarski_skakalci.groupby('klub').count()\n",
    "uredi_klube= prestej_klube.sort_values(by = 'id', ascending= False)\n",
    "print(uredi_klube['id'].head(12))\n",
    "\n",
    "samo_aktivni = smucarski_skakalci[smucarski_skakalci['status'] == 'Active']\n",
    "prestej_klube_aktivnih = samo_aktivni.groupby('klub').count()\n",
    "uredi_klube= prestej_klube_aktivnih.sort_values(by = 'id', ascending= False)\n",
    "print(uredi_klube['id'].head(12))\n",
    "#še komentiraj"
   ]
  },
  {
   "cell_type": "code",
   "execution_count": 160,
   "metadata": {},
   "outputs": [
    {
     "data": {
      "text/plain": [
       "<Axes: xlabel='spol'>"
      ]
     },
     "execution_count": 160,
     "metadata": {},
     "output_type": "execute_result"
    },
    {
     "data": {
      "image/png": "[encoded data removed]",
      "text/plain": [
       "<Figure size 640x480 with 1 Axes>"
      ]
     },
     "metadata": {},
     "output_type": "display_data"
    }
   ],
   "source": [
    "prestej_spole = smucarski_skakalci.groupby('spol').count()\n",
    "uredi_spole = prestej_spole.sort_values(by = 'id', ascending= False)\n",
    "uredi_spole['id'].plot.bar()"
   ]
  },
  {
   "cell_type": "code",
   "execution_count": 155,
   "metadata": {},
   "outputs": [
    {
     "data": {
      "text/plain": [
       "<Axes: xlabel='status'>"
      ]
     },
     "execution_count": 155,
     "metadata": {},
     "output_type": "execute_result"
    },
    {
     "data": {
      "image/png": "[encoded data removed]",
      "text/plain": [
       "<Figure size 640x480 with 1 Axes>"
      ]
     },
     "metadata": {},
     "output_type": "display_data"
    }
   ],
   "source": [
    "prestej_statuse = smucarski_skakalci.groupby('status').count()\n",
    "uredi_statuse= prestej_statuse.sort_values(by = 'id', ascending= False)\n",
    "uredi_statuse['id'].head(3).plot.bar()"
   ]
  },
  {
   "cell_type": "code",
   "execution_count": 187,
   "metadata": {},
   "outputs": [
    {
     "data": {
      "text/plain": [
       "<Axes: xlabel='spol'>"
      ]
     },
     "execution_count": 187,
     "metadata": {},
     "output_type": "execute_result"
    },
    {
     "data": {
      "image/png": "[encoded data removed]",
      "text/plain": [
       "<Figure size 640x480 with 1 Axes>"
      ]
     },
     "metadata": {},
     "output_type": "display_data"
    }
   ],
   "source": [
    "samo_aktivni = smucarski_skakalci[smucarski_skakalci['status'] == 'Active']\n",
    "spol_aktivnih = samo_aktivni.groupby('spol').count()\n",
    "uredi_spole_aktivnih = spol_aktivnih.sort_values(by = 'id', ascending= False)\n",
    "uredi_spole_aktivnih['id'].plot.bar()\n",
    "\n",
    "\n",
    "#iz tega vidimo, da je med aktivnimi razlika med številom moških in žensk manjša, saj je v zadnjih letih vedno več ženskih smučarskih skakalk, ki pa so v veliki večini še aktivne.\n",
    "#Ampak kot vidimo je še vedno šport dominiran z moškimi, vendar manj kot v preteklosti.\n",
    "#prav tako pa lahko opazimo, da se število mešanih ekip tudi zmanjšujje, saj jih je bilo v prejšnjem grafu po številu veliko več."
   ]
  },
  {
   "cell_type": "code",
   "execution_count": null,
   "metadata": {},
   "outputs": [],
   "source": []
  },
  {
   "cell_type": "code",
   "execution_count": 164,
   "metadata": {},
   "outputs": [
    {
     "data": {
      "text/plain": [
       "<Axes: xlabel='smuci'>"
      ]
     },
     "execution_count": 164,
     "metadata": {},
     "output_type": "execute_result"
    },
    {
     "data": {
      "image/png": "[encoded data removed]",
      "text/plain": [
       "<Figure size 640x480 with 1 Axes>"
      ]
     },
     "metadata": {},
     "output_type": "display_data"
    }
   ],
   "source": [
    "prestej_smuci = smucarski_skakalci.groupby('smuci').count()\n",
    "uredi_smuci= prestej_smuci.sort_values(by = 'id', ascending= False)\n",
    "uredi_smuci['id'].plot()\n",
    "#vidimo, da za tiste, ki so imeli podatke o smuček jih velika večina uporablja Fisher, vendar je bilo ubistvu zelo malo znanih podatkov(505)"
   ]
  },
  {
   "cell_type": "code",
   "execution_count": 166,
   "metadata": {},
   "outputs": [],
   "source": [
    "smucarski_skakalci[\"starost\"] = 2024 -smucarski_skakalci[\"rojstno_leto\"]"
   ]
  },
  {
   "cell_type": "code",
   "execution_count": 184,
   "metadata": {},
   "outputs": [
    {
     "name": "stdout",
     "output_type": "stream",
     "text": [
      "                      drzava    starost  stevilo_tekmovalcev\n",
      "30                  Slovenia  20.117647                  191\n",
      "23                    Norway  23.885714                  142\n",
      "9                    Germany  19.952756                  136\n",
      "15                     Japan  22.073394                  113\n",
      "27                    Russia  23.700000                   93\n",
      "0                    Austria  21.000000                   80\n",
      "25                    Poland  20.750000                   71\n",
      "24                P.r. China  22.560606                   69\n",
      "7                     France  16.841270                   65\n",
      "26                   Romania  18.732143                   58\n",
      "32               Switzerland  20.435897                   41\n",
      "6                    Finland  21.277778                   38\n",
      "4                    Czechia  17.875000                   36\n",
      "16                Kazakhstan  19.740741                   29\n",
      "36  United States Of America  19.291667                   25\n"
     ]
    },
    {
     "data": {
      "text/plain": [
       "<Axes: >"
      ]
     },
     "execution_count": 184,
     "metadata": {},
     "output_type": "execute_result"
    },
    {
     "data": {
      "image/png": "[encoded data removed]",
      "text/plain": [
       "<Figure size 640x480 with 1 Axes>"
      ]
     },
     "metadata": {},
     "output_type": "display_data"
    }
   ],
   "source": [
    "#poglejmo kakšne so povprečne starosti trenutno aktivnih smucarskih skakalcev v posamezni državi in koliko jih je sploh aktivnih\n",
    "smucarski_skakalci[\"starost\"] = 2024 -smucarski_skakalci[\"rojstno_leto\"]\n",
    "samo_aktivni = smucarski_skakalci[smucarski_skakalci['status'] == 'Active']\n",
    "\n",
    "razvrstimo_po_drzavah = samo_aktivni.groupby('drzava')\n",
    "povprecna_starost = razvrstimo_po_drzavah['starost'].mean()\n",
    "stevilo_tekmovalcev = samo_aktivni.groupby('drzava').size().reset_index(name='stevilo_tekmovalcev')\n",
    "\n",
    "# Združimo podatke glede na drzavo\n",
    "zdruzena_tabela= pd.merge(povprecna_starost, stevilo_tekmovalcev, on='drzava')\n",
    "koncna_tabela = zdruzena_tabela.sort_values(by='stevilo_tekmovalcev', ascending=False)\n",
    "\n",
    "print(koncna_tabela.head(15))\n",
    "koncna_tabela.head(15).plot.bar()\n",
    "\n",
    "#V tej tabeli lahko vidimo, da ima Slovenija trenutno daleč največ aktivnih smucarskih skakalcev in da so zelo mladi, povprecje vseh drzav pa se giba okoli 20-tega leta.\n",
    "\n",
    "#pogledaš lahko še kakšna je povprečna starost po državi glede na world cup,  tu pa moraš združiti tabele, ali pa da primerjaš za vsako leto koliko so bili v povprečju stari!!!"
   ]
  },
  {
   "cell_type": "code",
   "execution_count": null,
   "metadata": {},
   "outputs": [],
   "source": []
  }
 ],
 "metadata": {
  "kernelspec": {
   "display_name": "venv",
   "language": "python",
   "name": "python3"
  },
  "language_info": {
   "codemirror_mode": {
    "name": "ipython",
    "version": 3
   },
   "file_extension": ".py",
   "mimetype": "text/x-python",
   "name": "python",
   "nbconvert_exporter": "python",
   "pygments_lexer": "ipython3",
   "version": "3.11.2"
  }
 },
 "nbformat": 4,
 "nbformat_minor": 2
}
